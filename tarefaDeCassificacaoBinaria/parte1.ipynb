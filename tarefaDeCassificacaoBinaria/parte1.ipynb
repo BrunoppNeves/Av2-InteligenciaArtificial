{
 "cells": [
  {
   "cell_type": "code",
   "execution_count": 1,
   "metadata": {},
   "outputs": [],
   "source": [
    "import numpy as np\n",
    "import matplotlib.pyplot as plt\n",
    "import pandas as pd"
   ]
  },
  {
   "cell_type": "code",
   "execution_count": 30,
   "metadata": {},
   "outputs": [
    {
     "name": "stdout",
     "output_type": "stream",
     "text": [
      "Amostras (X):\n",
      "[[ 1.44806709  1.06475587]\n",
      " [ 2.49076465  0.1071967 ]\n",
      " [ 1.0332855   1.05197818]\n",
      " ...\n",
      " [-3.99574666 -2.34037597]\n",
      " [-1.17608807 -3.6052942 ]\n",
      " [-2.3765989  -3.7939656 ]]\n",
      "\n",
      "Rótulos (Y):\n",
      "[ 1.  1.  1. ... -1. -1. -1.]\n"
     ]
    }
   ],
   "source": [
    "dados = np.loadtxt('DataAV2.csv', delimiter=',' )\n",
    "X = dados[:, :-1]\n",
    "Y = dados[:, -1]\n",
    "print(\"Amostras (X):\")\n",
    "print(X)\n",
    "\n",
    "print(\"\\nRótulos (Y):\")\n",
    "print(Y)\n"
   ]
  },
  {
   "cell_type": "code",
   "execution_count": 27,
   "metadata": {},
   "outputs": [
    {
     "name": "stdout",
     "output_type": "stream",
     "text": [
      "Pesos aprendidos: [0.14480671 0.10647559]\n"
     ]
    }
   ],
   "source": [
    "def train_perceptron(X, Y, learning_rate):\n",
    "    num_samples, num_features = X.shape\n",
    "    weights = np.zeros(num_features)\n",
    "    error_exists = True\n",
    "    t = 0\n",
    "\n",
    "    while error_exists:\n",
    "        error_exists = False\n",
    "        t += 1\n",
    "\n",
    "        for i in range(num_samples):\n",
    "            input_sample = X[i]\n",
    "            target = Y[i]\n",
    "            u_t = np.dot(weights, input_sample)\n",
    "            y_t = np.sign(u_t)\n",
    "\n",
    "            if target != y_t:\n",
    "                error_exists = True\n",
    "                weights = weights + learning_rate * (target - y_t) * input_sample\n",
    "\n",
    "    return weights\n",
    "\n",
    "learning_rate = 0.1\n",
    "learned_weights = train_perceptron(X, Y, learning_rate)\n",
    "print(\"Pesos aprendidos:\", learned_weights)"
   ]
  },
  {
   "cell_type": "code",
   "execution_count": null,
   "metadata": {},
   "outputs": [],
   "source": [
    "plt.scatter()\n",
    "plt.title('DataAV2.csv')\n",
    "plt.xlabel('X')\n",
    "plt.ylabel('X')\n",
    "plt.show()"
   ]
  }
 ],
 "metadata": {
  "kernelspec": {
   "display_name": "Python 3",
   "language": "python",
   "name": "python3"
  },
  "language_info": {
   "codemirror_mode": {
    "name": "ipython",
    "version": 3
   },
   "file_extension": ".py",
   "mimetype": "text/x-python",
   "name": "python",
   "nbconvert_exporter": "python",
   "pygments_lexer": "ipython3",
   "version": "3.10.12"
  }
 },
 "nbformat": 4,
 "nbformat_minor": 2
}
